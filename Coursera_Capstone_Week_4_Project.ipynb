{
 "cells": [
  {
   "cell_type": "markdown",
   "metadata": {},
   "source": [
    "# Identifying Toronto Borough For Bong Foodies Ltd. To Open Flagship Restaurant"
   ]
  },
  {
   "cell_type": "markdown",
   "metadata": {},
   "source": [
    "##  Background\n",
    "\n",
    "Bong Foodies has been an emerging player in the restaurant business in North America with more than 10 restaurants in some of the major cities in the world like New York, Washington DC, Boston. They are now looking at possible opportunities to open their flagship restaurant in Toronto, Canada considering that it is one of the world’s most multicultural cities with a major Asian population."
   ]
  },
  {
   "cell_type": "markdown",
   "metadata": {},
   "source": [
    "## Problem Statement\n",
    "\n",
    "They would like to asses which neighborhood or neighborhoods in Toronto would be best suited for their flagship restaurant considering there are lots of restaurants in Toronto. Also, since they are more into Multi-Cuisine, they would like to identify a neighborhood where they could potentially have a good number of customers as well as less competition in the cosine space. \n",
    "A good location or neighborhood would be somewhere there is none or not more than one Multi-Cuisine restaurant along with a lot of other kind of shops and businesses around so that the expected customer inflow is reasonable.\n",
    "To solve this problem, they are expecting to answer a few key questions like below for the neighborhoods in Toronto and recommend a best possible neighborhood.\n",
    "\n",
    "Which are the busiest neighborhoods in terms of business, retail shops, restaurants?How many restaurants are there in each of these neighborhoods?What is the average rating of restaurants in these neighborhoods if possible? How many restaurants are there in these neighborhoods? Are there neighborhoods where there are no multi-cuisine Restaurants?"
   ]
  },
  {
   "cell_type": "markdown",
   "metadata": {},
   "source": [
    "## Data\n",
    "\n",
    "To do this assessment Bong Foodies Ltd has hired Data Analytics team from XYZ Consultants to assist them with identifying the possible or best possible neighborhood in Toronto to open this restaurant. XYZ Consultants have decided to use Wikipedia to get the list of suburbs for Toronto, as well as necessary co-ordinates ( latitudes and longitudes) of the suburbs or neighborhoods which will then be used by them as reference to extract other necessary details from Foursquare about each of the neighborhoods which includes business details, shops, retails, number of restaurants, most common restaurants etc. Further assessment and data wrangling will be done to understand which the best neighborhood is to open a multicuisine restaurant. The data sets include\n",
    "\n",
    "1.\tNeighborhood data from Wikipedia for Toronto, CA\n",
    "2.\tCo-ordinate data from web for each of these neighborhoods\n",
    "3.\tFoursquare for other information on these neighborhoods\n",
    "\n",
    "\n",
    "### Borough & Neighborhood Data from Wikipedia \n",
    "\n",
    " Link - https://en.wikipedia.org/wiki/List_of_postal_codes_of_Canada:_M\n",
    "\n",
    "\tPostal code - Postal Code of a Neighborhood in Toronto (Alphanumeric)\n",
    "\tBorough – Name of the Borough (Text)\n",
    "\tNeighborhood – Neighborhood areas of the Borough (Text)\n",
    "\n",
    "### Geospatial or Latitude & Longitude data for the Boroughs\n",
    "\n",
    " Link - http://cocl.us/Geospatial_data\n",
    "\n",
    "\tPostal code (Alphanumeric)\n",
    "\tLatitude (Alphanumeric)\n",
    "\tLongitude (Alphanumeric)\n",
    "\n",
    "### Foursquare Location Data:\n",
    "\n",
    " Link - https://foursquare.com/\n",
    "\n",
    " Call Foursquare APIs using Latitude and Longitude to get and analyze data on various locations for these neighborhoods.\n"
   ]
  },
  {
   "cell_type": "code",
   "execution_count": null,
   "metadata": {},
   "outputs": [],
   "source": []
  },
  {
   "cell_type": "code",
   "execution_count": null,
   "metadata": {},
   "outputs": [],
   "source": []
  },
  {
   "cell_type": "code",
   "execution_count": null,
   "metadata": {},
   "outputs": [],
   "source": []
  }
 ],
 "metadata": {
  "kernelspec": {
   "display_name": "Python 3",
   "language": "python",
   "name": "python3"
  },
  "language_info": {
   "codemirror_mode": {
    "name": "ipython",
    "version": 3
   },
   "file_extension": ".py",
   "mimetype": "text/x-python",
   "name": "python",
   "nbconvert_exporter": "python",
   "pygments_lexer": "ipython3",
   "version": "3.7.3"
  }
 },
 "nbformat": 4,
 "nbformat_minor": 2
}
